{
 "cells": [
  {
   "cell_type": "code",
   "execution_count": 1,
   "metadata": {},
   "outputs": [
    {
     "data": {
      "image/png": "[encoded data removed]",
      "text/plain": [
       "<matplotlib.figure.Figure at 0x2239891d748>"
      ]
     },
     "metadata": {},
     "output_type": "display_data"
    }
   ],
   "source": [
    "import numpy as np\n",
    "import tensorflow as tf\n",
    "import matplotlib.pyplot as plt\n",
    "\n",
    "# 随机生成一些点，围绕在y=0.1x+0.3+error_term之间\n",
    "num_points = 1000\n",
    "vectors_set = []\n",
    "for i in range(num_points):\n",
    "    x1 = np.random.normal(0.0, 0.55)\n",
    "    y1 = x1*0.1 + 0.3 + np.random.normal(0.0, 0.03)\n",
    "    vectors_set.append([x1, y1])\n",
    "\n",
    "# 生成一些样本\n",
    "x_data = [v[0] for v in vectors_set]\n",
    "y_data = [v[1] for v in vectors_set]\n",
    "\n",
    "plt.scatter(x_data, y_data, c='g')\n",
    "plt.show()"
   ]
  },
  {
   "cell_type": "code",
   "execution_count": 2,
   "metadata": {},
   "outputs": [
    {
     "name": "stdout",
     "output_type": "stream",
     "text": [
      "w =  [ 0.30982375] b =  [ 0.] loss =  0.101145\n"
     ]
    }
   ],
   "source": [
    "# 生成一维的w矩阵，取值是-1到1之间的随机数，其实就一个[1]代表一行，如果是[3, 4]就代表3行4列\n",
    "w = tf.Variable(tf.random_uniform([1], -1.0, 1.0), name='w')\n",
    "# 生成一维的b矩阵，初始值是0\n",
    "b = tf.Variable(tf.zeros([1]), name='b')\n",
    "# 得到y的计算公式\n",
    "y = w * x_data + b\n",
    "\n",
    "# 以预估值y和实际值y_data的均方差作为损失函数\n",
    "loss = tf.reduce_mean(tf.square(y - y_data), name='loss')\n",
    "# 采用梯度下降法优化权值参数, learning_rate = 0.5 决定参数逼近最优值的快慢\n",
    "# 如果学习率过大，很可能会越过最优值；反而如果学习率过小，优化的效率可能过低，长时间算法无法收敛convergence\n",
    "optimizer = tf.train.GradientDescentOptimizer(0.5)\n",
    "# 定义训练过程\n",
    "train = optimizer.minimize(loss, name='train')\n",
    "\n",
    "sess = tf.Session()\n",
    "init_op = tf.global_variables_initializer()\n",
    "sess.run(init_op)\n",
    "\n",
    "# 先打印最初始化时的w和b\n",
    "print ('w = ', sess.run(w), 'b = ', sess.run(b), 'loss = ', sess.run(loss))"
   ]
  },
  {
   "cell_type": "code",
   "execution_count": 3,
   "metadata": {},
   "outputs": [
    {
     "name": "stdout",
     "output_type": "stream",
     "text": [
      "w =  [ 0.25598341] b =  [ 0.29661793] loss =  0.00764696\n",
      "w =  [ 0.21234497] b =  [ 0.29751846] loss =  0.00437252\n",
      "w =  [ 0.18098125] b =  [ 0.29824832] loss =  0.00268089\n",
      "w =  [ 0.15843821] b =  [ 0.29877287] loss =  0.00180696\n",
      "w =  [ 0.14223513] b =  [ 0.29914993] loss =  0.00135547\n",
      "w =  [ 0.13058898] b =  [ 0.29942092] loss =  0.00112222\n",
      "w =  [ 0.12221817] b =  [ 0.29961571] loss =  0.00100172\n",
      "w =  [ 0.11620155] b =  [ 0.29975572] loss =  0.000939471\n",
      "w =  [ 0.11187704] b =  [ 0.29985633] loss =  0.000907311\n",
      "w =  [ 0.10876875] b =  [ 0.29992867] loss =  0.000890696\n",
      "w =  [ 0.10653462] b =  [ 0.29998067] loss =  0.000882112\n",
      "w =  [ 0.10492882] b =  [ 0.30001801] loss =  0.000877678\n",
      "w =  [ 0.10377463] b =  [ 0.30004489] loss =  0.000875387\n",
      "w =  [ 0.10294504] b =  [ 0.30006418] loss =  0.000874203\n",
      "w =  [ 0.10234877] b =  [ 0.30007806] loss =  0.000873592\n",
      "w =  [ 0.10192019] b =  [ 0.30008805] loss =  0.000873276\n",
      "w =  [ 0.10161214] b =  [ 0.3000952] loss =  0.000873113\n",
      "w =  [ 0.10139073] b =  [ 0.30010036] loss =  0.000873029\n",
      "w =  [ 0.10123158] b =  [ 0.30010405] loss =  0.000872985\n",
      "w =  [ 0.10111719] b =  [ 0.3001067] loss =  0.000872962\n"
     ]
    }
   ],
   "source": [
    "# 20次训练\n",
    "for step in range(20):\n",
    "    sess.run(train)\n",
    "    # 输出每次训练好的w和b，发现最后果不其然w和b在分别向0.1和0.3靠近（这个算法是对的）\n",
    "    print ('w = ', sess.run(w), 'b = ', sess.run(b), 'loss = ', sess.run(loss))"
   ]
  },
  {
   "cell_type": "code",
   "execution_count": 5,
   "metadata": {},
   "outputs": [
    {
     "data": {
      "image/png": "[encoded data removed]",
      "text/plain": [
       "<matplotlib.figure.Figure at 0x223937b3198>"
      ]
     },
     "metadata": {},
     "output_type": "display_data"
    }
   ],
   "source": [
    "# 画散点\n",
    "plt.scatter(x_data, y_data, c='g')\n",
    "# 画拟合曲线\n",
    "plt.plot(x_data, sess.run(w)*x_data+sess.run(b), c='r')\n",
    "plt.show()"
   ]
  },
  {
   "cell_type": "code",
   "execution_count": null,
   "metadata": {
    "collapsed": true
   },
   "outputs": [],
   "source": []
  }
 ],
 "metadata": {
  "kernelspec": {
   "display_name": "Python 3",
   "language": "python",
   "name": "python3"
  },
  "language_info": {
   "codemirror_mode": {
    "name": "ipython",
    "version": 3
   },
   "file_extension": ".py",
   "mimetype": "text/x-python",
   "name": "python",
   "nbconvert_exporter": "python",
   "pygments_lexer": "ipython3",
   "version": "3.6.1"
  }
 },
 "nbformat": 4,
 "nbformat_minor": 2
}
